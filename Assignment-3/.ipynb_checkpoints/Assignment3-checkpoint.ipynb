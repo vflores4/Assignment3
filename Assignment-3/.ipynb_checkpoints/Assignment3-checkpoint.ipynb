{
 "cells": [
  {
   "cell_type": "markdown",
   "metadata": {},
   "source": [
    "# Assignment 3 - Convection of a Scalar\n",
    "\n",
    "Solve the following problems and explain your results."
   ]
  },
  {
   "cell_type": "markdown",
   "metadata": {},
   "source": [
    "## Problem 1\n",
    "\n",
    "Consider a convection/diffusion problem that has Dirichlet conditions on temperature imposed on both ends (see the figure below). This is an unusual problem that would be difficult to reproduce in a laboratory, but it is an interesting problem by which to observe the performance of advection schemes.\n",
    "\n",
    "![Problem1](Figures/3-Problem1.png)\n",
    "   \n",
    "The exact solution to this problem is given by:\n",
    "\n",
    "$$\n",
    "    T(x)= T_1 + \\frac{e^{x Pe/L} - 1}{e^{Pe} - 1}(T_2 - T_1)\n",
    "$$\n",
    "\n",
    "where $Pe$ is defined as $Pe= u L/\\alpha$.  Solve this problem numerically for $Pe = 50$ by imposing:\n",
    "\n",
    "- $L$ = 1 [m]\n",
    "- $\\rho$ = 1 [kg/m$^3$]\n",
    "- $c_p$ = 1 [J/kg$\\cdot$K]\n",
    "- $u$ = 1 [m/s]\n",
    "- $k$ = 0.02 [[W/m$\\cdot$K]]\n",
    "- $T_1$ = 0 [$^\\circ$C]\n",
    "- $T_2$ = 1 [$^\\circ$C]\n",
    "\n",
    "Discretize the one-dimensional domain using 10 equal sized control-volumes.  Initialize the field variables as $T$ = 0.0 [K] and $u$ = 1 [m/s]. Then, carry out the following:\n",
    "\n",
    "1. Solve the problem using UDS, CDS, and QUICK (use $\\Delta t = 10^{10}$ [s]).  Modify the value of $\\alpha_e$ on the domain boundaries such that the value of temperature on the face is equal to the specified boundary temperature.\n",
    "2. Plot the results for $T$ for all cases along with the exact solution. Discuss your results.\n",
    "4. Re-run the case using 20, 40 and 80 uniformly spaced control volumes.  Discuss your results."
   ]
  },
  {
   "cell_type": "markdown",
   "metadata": {},
   "source": [
    "## Problem 2\n",
    "\n",
    "Consider the problem of water flowing through a heated square duct (see the figure below).\n",
    "\n",
    "![Problem1](Figures/3-Problem2.png)\n",
    "\n",
    "The properties of water are $\\rho$ = 1000 [kg/m$^3$], $k$ = 0.590 [W/m$\\cdot$K], and $c_p$ = 4189 [J/kg$\\cdot$K]. The exact solution for this problem is:\n",
    "\n",
    "$$\n",
    "    \\frac{T_{\\infty}-T(x)}{T_{\\infty}-T_{in}}= e^{-\\frac{h P_o x}{\\dot{m} c_p}}\n",
    "$$\n",
    "\n",
    "To solve this problem, start with 5 equal-length control volumes, initialize the temperature and velocity fields as $T$ = 0 [$^\\circ$C] and $u$ = 1.5 [m/s], and use a time-step size of $10^{10}$ [s].  At the left boundary, set $\\alpha_e = 1$ to ensure that the correct value of $T$ gets carried into the domain.  Then, carry out the following:\n",
    "\n",
    "1. Solve the problem using UDS, CDS and QUICK and plot $T$ for all schemes along with $T_{exact}$ vs. $x$ with $\\alpha_e$ = -1.0 at the right boundary.  Discuss the results.\n",
    "2. Test the effect of $\\alpha_e$ at the right boundary.  That is, set $\\alpha_e$ = 1.0 at the right boundary, run the cases of (1) again and discuss the differences that occur.  What physical effect does setting $\\alpha_e = \\pm1.0$ at the right boundary have?  Which is realistic?\n",
    "3. Reverse the flow direction and the boundary conditions re-run parts (1) and (2).  Show plots of $T$ vs. $x$.  Make sure you use appropriate values for $\\alpha_e$ on the boundaries.  Your solutions should be the same as those from parts (1) and (2), except opposite.\n",
    "\n",
    "Based on your results for this problem, make a general statement about how $\\alpha_e$ should be set on the boundaries and why."
   ]
  },
  {
   "cell_type": "code",
   "execution_count": null,
   "metadata": {},
   "outputs": [],
   "source": []
  }
 ],
 "metadata": {
  "kernelspec": {
   "display_name": "Python 3",
   "language": "python",
   "name": "python3"
  },
  "language_info": {
   "codemirror_mode": {
    "name": "ipython",
    "version": 3
   },
   "file_extension": ".py",
   "mimetype": "text/x-python",
   "name": "python",
   "nbconvert_exporter": "python",
   "pygments_lexer": "ipython3",
   "version": "3.8.5"
  }
 },
 "nbformat": 4,
 "nbformat_minor": 2
}
